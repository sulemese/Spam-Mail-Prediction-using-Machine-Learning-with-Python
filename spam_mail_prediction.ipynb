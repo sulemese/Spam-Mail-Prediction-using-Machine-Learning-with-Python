{
  "nbformat": 4,
  "nbformat_minor": 0,
  "metadata": {
    "colab": {
      "provenance": []
    },
    "kernelspec": {
      "name": "python3",
      "display_name": "Python 3"
    },
    "language_info": {
      "name": "python"
    }
  },
  "cells": [
    {
      "cell_type": "markdown",
      "source": [
        "#1. Problem Tanımı:\n",
        "Hedef: Spam ve normal (ham) e-postaları ayırt etmek.\n",
        "\n",
        "Giriş Verisi: \"Message\" sütunundaki e-posta içerikleri.\n",
        "\n",
        "Çıkış Verisi: \"Category\" sütunundaki \"spam\" veya \"ham\" etiketi.\n"
      ],
      "metadata": {
        "id": "I6rYbSod1Lon"
      }
    },
    {
      "cell_type": "markdown",
      "source": [
        "#2. Bağımlılıkların Eklenmesi:\n",
        "Bu aşamada kullanılacak kütüphaneler eklenir."
      ],
      "metadata": {
        "id": "Ig3scrtU1iAh"
      }
    },
    {
      "cell_type": "code",
      "source": [
        "import numpy as np #diziler oluşturmak için\n",
        "import pandas as pd #dataframe oluşturmak için\n",
        "from sklearn.model_selection import train_test_split #makine öğrenimi için\n",
        "from sklearn.feature_extraction.text import TfidfVectorizer #metin verilerini sayısal anlamlı değerlere dönüştürmek için çünkü makineyi metin verileri ile beslersek makine bunu anlayamaz.bunun için metni özellik vektörüne dönüştüreceğiz\n",
        "from sklearn.linear_model import LogisticRegression #postayı spam yada normal olarak sınıflandırmak için kullanılacak olan model\n",
        "from sklearn.metrics import accuracy_score #doğruluk puanı modelin ne kadar iyi performans gösterdiği için gerekli.\n",
        "import matplotlib.pyplot as plt\n",
        "import re\n",
        "import nltk\n",
        "from nltk.corpus import stopwords\n",
        "nltk.download('stopwords')\n",
        "from nltk.tokenize import word_tokenize\n",
        "nltk.download('punkt')\n",
        "from nltk.stem import PorterStemmer\n",
        "from sklearn.neighbors import KNeighborsClassifier\n",
        "from sklearn.pipeline import make_pipeline\n",
        "from sklearn.model_selection import cross_val_score, StratifiedKFold\n",
        "from sklearn.model_selection import KFold\n",
        "from sklearn.preprocessing import LabelEncoder\n",
        "from sklearn.metrics import precision_score\n",
        "from sklearn.metrics import recall_score\n",
        "from sklearn.metrics import f1_score\n",
        "from sklearn.metrics import confusion_matrix\n",
        "\n",
        "\n",
        "\n",
        "\n",
        "\n"
      ],
      "metadata": {
        "colab": {
          "base_uri": "https://localhost:8080/"
        },
        "id": "-VWVeHk91hZS",
        "outputId": "fa3be244-564b-4d5a-aa3c-27e7e31e92b1"
      },
      "execution_count": null,
      "outputs": [
        {
          "output_type": "stream",
          "name": "stderr",
          "text": [
            "[nltk_data] Downloading package stopwords to /root/nltk_data...\n",
            "[nltk_data]   Unzipping corpora/stopwords.zip.\n",
            "[nltk_data] Downloading package punkt to /root/nltk_data...\n",
            "[nltk_data]   Unzipping tokenizers/punkt.zip.\n"
          ]
        }
      ]
    },
    {
      "cell_type": "markdown",
      "source": [
        "#3. Veri Keşfi(Data Exploration):\n",
        "Veri keşfi aşamasında, veri seti incelenerek verilerin genel yapısını anlamaya çalışılır.\n",
        "\n",
        "Bu aşamada yapılabilecek işlemler şunlardır;\n",
        "1. Veri setinizi yüklemek\n",
        "2. Veri setinin ilk birkaç satırını gözden geçirmek\n",
        "3. Kategorilerin dağılımını incelemek\n",
        "4. Eksik veri veya aykırı değerleri kontrol etmek"
      ],
      "metadata": {
        "id": "i2FgKZ7A2Kws"
      }
    },
    {
      "cell_type": "markdown",
      "source": [
        "#### 3.1 Veri setinin yüklenmesi"
      ],
      "metadata": {
        "id": "5Mg1FKiw4CAA"
      }
    },
    {
      "cell_type": "code",
      "source": [
        "# Bu kod veri setini yükler ve bir dataframe oluşturur.\n",
        "# Bu veri seti \"Message\" ve \"Category\" olmak üzere 2 sütun içermektedir.\n",
        "# \"Message\" sütununda e-posta mesajlarını \"Category\" sütununda ise \"ham\" (normal) veya \"spam\" değerlerini içerir.\n",
        "dataframe = pd.read_csv('/content/mail_data.csv')\n",
        "print(dataframe)"
      ],
      "metadata": {
        "colab": {
          "base_uri": "https://localhost:8080/"
        },
        "id": "AYlIknxx4MCT",
        "outputId": "c850c6af-7c06-45d5-b18e-d736b238aafc"
      },
      "execution_count": null,
      "outputs": [
        {
          "output_type": "stream",
          "name": "stdout",
          "text": [
            "     Category                                            Message\n",
            "0         ham  Go until jurong point, crazy.. Available only ...\n",
            "1         ham                      Ok lar... Joking wif u oni...\n",
            "2        spam  Free entry in 2 a wkly comp to win FA Cup fina...\n",
            "3         ham  U dun say so early hor... U c already then say...\n",
            "4         ham  Nah I don't think he goes to usf, he lives aro...\n",
            "...       ...                                                ...\n",
            "5567     spam  This is the 2nd time we have tried 2 contact u...\n",
            "5568      ham               Will ü b going to esplanade fr home?\n",
            "5569      ham  Pity, * was in mood for that. So...any other s...\n",
            "5570      ham  The guy did some bitching but I acted like i'd...\n",
            "5571      ham                         Rofl. Its true to its name\n",
            "\n",
            "[5572 rows x 2 columns]\n"
          ]
        }
      ]
    },
    {
      "cell_type": "markdown",
      "source": [
        "#### 3.2 Veri setinin ilk birkaç satırının incelenmesi"
      ],
      "metadata": {
        "id": "60FFywj44b8K"
      }
    },
    {
      "cell_type": "code",
      "source": [
        "# Bu kod verisetinin ilk 10 satırını görüntüler\n",
        "print(dataframe.head(10))"
      ],
      "metadata": {
        "colab": {
          "base_uri": "https://localhost:8080/"
        },
        "id": "yrefzNTu4tKd",
        "outputId": "6766b5f7-3684-43f6-9d45-2c44fbb5a308"
      },
      "execution_count": null,
      "outputs": [
        {
          "output_type": "stream",
          "name": "stdout",
          "text": [
            "  Category                                            Message\n",
            "0      ham  Go until jurong point, crazy.. Available only ...\n",
            "1      ham                      Ok lar... Joking wif u oni...\n",
            "2     spam  Free entry in 2 a wkly comp to win FA Cup fina...\n",
            "3      ham  U dun say so early hor... U c already then say...\n",
            "4      ham  Nah I don't think he goes to usf, he lives aro...\n",
            "5     spam  FreeMsg Hey there darling it's been 3 week's n...\n",
            "6      ham  Even my brother is not like to speak with me. ...\n",
            "7      ham  As per your request 'Melle Melle (Oru Minnamin...\n",
            "8     spam  WINNER!! As a valued network customer you have...\n",
            "9     spam  Had your mobile 11 months or more? U R entitle...\n"
          ]
        }
      ]
    },
    {
      "cell_type": "markdown",
      "source": [
        "#### 3.3 Kategorilerin dağılımının incelenmesi"
      ],
      "metadata": {
        "id": "h2L95LRq47DS"
      }
    },
    {
      "cell_type": "code",
      "source": [
        "# Bu kod kategorilerin dağılımını verir.\n",
        "# Buna göre 4875 adet ham ve 747 adet spam mailimiz mevcut.\n",
        "kategori_sayisi = dataframe['Category'].value_counts()\n",
        "print(kategori_sayisi)"
      ],
      "metadata": {
        "colab": {
          "base_uri": "https://localhost:8080/"
        },
        "id": "6jW5iURa5Bcb",
        "outputId": "2429e844-b68b-4dbb-850f-85b61e1433cd"
      },
      "execution_count": null,
      "outputs": [
        {
          "output_type": "stream",
          "name": "stdout",
          "text": [
            "ham     4825\n",
            "spam     747\n",
            "Name: Category, dtype: int64\n"
          ]
        }
      ]
    },
    {
      "cell_type": "code",
      "source": [
        "# Bu kod kategorilerimizin dağılımını çubuk grafiği ile görselleştirir.\n",
        "# Görsele baktığımızda kategorilerimizin dengeli dağılmadığını anlıyoruz.\n",
        "# Çünkü ham maillerin sayısı spam maillerden kat kat fazla.\n",
        "dataframe['Category'].value_counts().plot(kind='bar', color=['green', 'red'])\n",
        "plt.title('Kategori Dağılımı')\n",
        "plt.xlabel('Kategori')\n",
        "plt.ylabel('Sayı')\n",
        "plt.show()"
      ],
      "metadata": {
        "colab": {
          "base_uri": "https://localhost:8080/",
          "height": 496
        },
        "id": "cTohvNAa5Pxf",
        "outputId": "a24dd04c-40d8-4806-afa4-5c8935c1285a"
      },
      "execution_count": null,
      "outputs": [
        {
          "output_type": "display_data",
          "data": {
            "text/plain": [
              "<Figure size 640x480 with 1 Axes>"
            ],
            "image/png": "[encoded data removed]"
          },
          "metadata": {}
        }
      ]
    },
    {
      "cell_type": "markdown",
      "source": [
        "#### 3.4 Eksik değerlerin incelenmesi"
      ],
      "metadata": {
        "id": "0haIzXzQ5jf5"
      }
    },
    {
      "cell_type": "code",
      "source": [
        "# Bu kod veri setindeki eksik (NULL veya NaN) değerlerin sayısını gösterir.\n",
        "# Bu Verisetinde eksik değer bulunmamaktadır.\n",
        "missing_values = dataframe.isnull().sum()\n",
        "print(missing_values)"
      ],
      "metadata": {
        "colab": {
          "base_uri": "https://localhost:8080/"
        },
        "id": "YB1q4wqY5m-r",
        "outputId": "7b1bcf33-c56b-4577-ac25-60a77e4f90e6"
      },
      "execution_count": null,
      "outputs": [
        {
          "output_type": "stream",
          "name": "stdout",
          "text": [
            "Category    0\n",
            "Message     0\n",
            "dtype: int64\n"
          ]
        }
      ]
    },
    {
      "cell_type": "markdown",
      "source": [
        "#4. Veri Ön İşleme(Data Preprocessing):\n",
        "Veri ön işleme, veri setini temizleme ve modele uygun hale getirme sürecidir.\n",
        "\n",
        "1. [0-9] gibi sayısal ifadelerin kaldırılması\n",
        "2. \"#\", \"%\", \"&\" gibi özel karakterlerin kaldırılması\n",
        "3. Büyük harflerin küçük harfe dönüştürülmesi\n",
        "4. Etkisiz kelimelerin (Stopwords) çıkarılması\n",
        "5. Kelime köklerinin bulunması\n",
        "6. Label Encoding"
      ],
      "metadata": {
        "id": "tRY74r3s57Le"
      }
    },
    {
      "cell_type": "markdown",
      "source": [
        "#### 4.1 Sayısal İfadelerin Kaldırılması"
      ],
      "metadata": {
        "id": "MDqrD3Li6Us7"
      }
    },
    {
      "cell_type": "code",
      "source": [
        "# 'Message' sütununa uygulanacak fonksiyon\n",
        "def remove_numbers(text):\n",
        "    return re.sub(r'[0-9]', '', text)\n",
        "\n",
        "# 'Message' sütununa uygula\n",
        "dataframe['Message'] = dataframe['Message'].apply(remove_numbers)\n"
      ],
      "metadata": {
        "id": "dWEp5ecD6TyE"
      },
      "execution_count": null,
      "outputs": []
    },
    {
      "cell_type": "markdown",
      "source": [
        "#### 4.2 Özel Karakterlerin Kaldırılması"
      ],
      "metadata": {
        "id": "H9UcEDyu9luB"
      }
    },
    {
      "cell_type": "code",
      "source": [
        "# 'Message' sütununa uygulanacak fonksiyon\n",
        "def remove_special_characters(text):\n",
        "    return re.sub(r'[^\\w\\s]', '', text)\n",
        "\n",
        "# 'Message' sütununa uygula\n",
        "dataframe['Message'] = dataframe['Message'].apply(remove_special_characters)"
      ],
      "metadata": {
        "id": "YcJk7KUD-Bhb"
      },
      "execution_count": null,
      "outputs": []
    },
    {
      "cell_type": "markdown",
      "source": [
        "#### 4.3 Büyük Harflerin Küçük Harflere Dönüştürülmesi"
      ],
      "metadata": {
        "id": "WrBQZtKf-McL"
      }
    },
    {
      "cell_type": "code",
      "source": [
        "# 'Message' sütununa uygulanacak fonksiyon\n",
        "def convert_to_lowercase(text):\n",
        "    return text.lower()\n",
        "\n",
        "# 'Message' sütununa uygula\n",
        "dataframe['Message'] = dataframe['Message'].apply(convert_to_lowercase)"
      ],
      "metadata": {
        "id": "hh0j8XwB-UOm"
      },
      "execution_count": null,
      "outputs": []
    },
    {
      "cell_type": "markdown",
      "source": [
        "#### 4.4 Etkisiz Kelimelerin (stopwords) Kaldırılması"
      ],
      "metadata": {
        "id": "WuK3xRn6AAJi"
      }
    },
    {
      "cell_type": "code",
      "source": [
        "# Stopword listesini yükle\n",
        "stop_words = set(stopwords.words('english'))\n",
        "\n",
        "# Metin verilerinden stopword'leri çıkar\n",
        "def remove_stopwords(text):\n",
        "    words = word_tokenize(text)\n",
        "    filtered_words = [word for word in words if word.lower() not in stop_words]\n",
        "    return ' '.join(filtered_words)\n",
        "\n",
        "# \"Message\" sütunundaki metin verilerine stopword temizleme işlemini uygula\n",
        "dataframe['Message'] = dataframe['Message'].apply(remove_stopwords)"
      ],
      "metadata": {
        "id": "NCDctgrvAAz6"
      },
      "execution_count": null,
      "outputs": []
    },
    {
      "cell_type": "markdown",
      "source": [
        "#### 4.5 Kelimelerin Köklerinin Çıkarılması"
      ],
      "metadata": {
        "id": "1q8vGyEAA4ef"
      }
    },
    {
      "cell_type": "code",
      "source": [
        "# Porter Stemmer'ı yükle\n",
        "stemmer = PorterStemmer()\n",
        "\n",
        "# Metin verilerinde stemming işlemini uygula\n",
        "def stem_text(text):\n",
        "    words = word_tokenize(text)\n",
        "    stemmed_words = [stemmer.stem(word) for word in words]\n",
        "    return ' '.join(stemmed_words)\n",
        "\n",
        "# \"Message\" sütunundaki metin verilerine stemming işlemini uygula\n",
        "dataframe['Message'] = dataframe['Message'].apply(stem_text)"
      ],
      "metadata": {
        "id": "BsUXiroRA5KZ"
      },
      "execution_count": null,
      "outputs": []
    },
    {
      "cell_type": "markdown",
      "source": [
        "#### 4.6 Label Encoding\n",
        " Veri setindeki kategorik sütunları (\"ham\" ve \"spam\" gibi) sayısal değerlere dönüştürmek için kullanılır."
      ],
      "metadata": {
        "id": "8zZZwAoPB_-t"
      }
    },
    {
      "cell_type": "code",
      "source": [
        "# kategori sütununda \"spam\" değerlerini \"0\" ve \"ham\" değerlerini \"1\" olarak sayısal değerlere dönüştürür.\n",
        "dataframe.loc[dataframe['Category'] == 'spam', 'Category',] = 0\n",
        "dataframe.loc[dataframe['Category'] == 'ham', 'Category',] = 1"
      ],
      "metadata": {
        "id": "qDCk73CgCE9W"
      },
      "execution_count": null,
      "outputs": []
    },
    {
      "cell_type": "markdown",
      "source": [
        "#5. Veri Setinin X ve Y ye bölünmesi"
      ],
      "metadata": {
        "id": "0ZYL-cYPBhQQ"
      }
    },
    {
      "cell_type": "code",
      "source": [
        "# Bağımsız değişken (X) ve bağımlı değişken (Y) ayırma\n",
        "X = dataframe['Message']\n",
        "Y = dataframe['Category']"
      ],
      "metadata": {
        "id": "ZWxpGlu4FPEx"
      },
      "execution_count": null,
      "outputs": []
    },
    {
      "cell_type": "markdown",
      "source": [
        "#6. Özellik Çıkarımı (Feature Extraction)\n",
        "Spam mail analizi için özellik çıkarımı, metin verilerini anlamlı sayısal özelliklere dönüştürme sürecidir. Bu özellikler, metin verilerinin içerdiği bilgileri daha iyi temsil edebilecek formatta olmalıdır."
      ],
      "metadata": {
        "id": "8Pjz3N56Bq16"
      }
    },
    {
      "cell_type": "markdown",
      "source": [
        "#### 6.1 TF-IDF Yöntemi"
      ],
      "metadata": {
        "id": "M17eWYQ7F32U"
      }
    },
    {
      "cell_type": "code",
      "source": [
        "# TF-IDF vektörleme\n",
        "vectorizer = TfidfVectorizer(min_df=1, stop_words='english', lowercase=True)\n",
        "X_tfidf = vectorizer.fit_transform(X)\n",
        "print(X_tfidf)"
      ],
      "metadata": {
        "colab": {
          "base_uri": "https://localhost:8080/"
        },
        "id": "B0MpLtZ-GJ69",
        "outputId": "59e19aa4-c0ab-429a-d204-2d41ac900a1a"
      },
      "execution_count": null,
      "outputs": [
        {
          "output_type": "stream",
          "name": "stdout",
          "text": [
            "  (0, 6574)\t0.19702290780713422\n",
            "  (0, 204)\t0.3546607748984538\n",
            "  (0, 2362)\t0.1644114271559457\n",
            "  (0, 1043)\t0.2996188558139331\n",
            "  (0, 773)\t0.33856204558236747\n",
            "  (0, 3215)\t0.290759085739021\n",
            "  (0, 6771)\t0.24101894405056848\n",
            "  (0, 2398)\t0.19739925519222162\n",
            "  (0, 775)\t0.2996188558139331\n",
            "  (0, 391)\t0.2696908349561709\n",
            "  (0, 1257)\t0.27466035642293457\n",
            "  (0, 4537)\t0.24216987541391052\n",
            "  (0, 3077)\t0.3546607748984538\n",
            "  (1, 4193)\t0.5633498837724461\n",
            "  (1, 6683)\t0.44483654514496557\n",
            "  (1, 3043)\t0.4773478663822099\n",
            "  (1, 3247)\t0.42081977871680865\n",
            "  (1, 4164)\t0.2825014776211812\n",
            "  (2, 275)\t0.18755840752900615\n",
            "  (2, 4828)\t0.2634654233065953\n",
            "  (2, 6282)\t0.13946211747839518\n",
            "  (2, 4781)\t0.2634654233065953\n",
            "  (2, 4868)\t0.1811980918209888\n",
            "  (2, 5965)\t0.1327917042898782\n",
            "  (2, 5618)\t0.17592618836413482\n",
            "  :\t:\n",
            "  (5567, 6227)\t0.2714951974121916\n",
            "  (5567, 6081)\t0.2336687692698023\n",
            "  (5567, 4588)\t0.3462412984367328\n",
            "  (5567, 1050)\t0.27498853753751695\n",
            "  (5567, 4673)\t0.288309763413607\n",
            "  (5568, 1825)\t0.6932133474261023\n",
            "  (5568, 2118)\t0.6041759739859898\n",
            "  (5568, 2653)\t0.3929715605592582\n",
            "  (5569, 5465)\t0.5375461940984255\n",
            "  (5569, 4470)\t0.5375461940984255\n",
            "  (5569, 3793)\t0.4470332006149029\n",
            "  (5569, 5770)\t0.4714334480799934\n",
            "  (5570, 599)\t0.3854773527602521\n",
            "  (5570, 54)\t0.39321476275381684\n",
            "  (5570, 2453)\t0.2751902789579281\n",
            "  (5570, 2230)\t0.36279049716343553\n",
            "  (5570, 1756)\t0.3215823550052191\n",
            "  (5570, 800)\t0.2706240587725217\n",
            "  (5570, 5486)\t0.2706240587725217\n",
            "  (5570, 3337)\t0.2082654247114101\n",
            "  (5570, 2783)\t0.3046935313613179\n",
            "  (5570, 6615)\t0.24284754505866513\n",
            "  (5570, 2129)\t0.2106304528029328\n",
            "  (5571, 5018)\t0.7912484117634629\n",
            "  (5571, 6239)\t0.6114948494319451\n"
          ]
        }
      ]
    },
    {
      "cell_type": "code",
      "source": [
        "    #veriler object tipindedir. tamsayıya dönüştürmek makinenin daha kolay anlamasını sağlamaktadır.\n",
        "    Y = Y.astype('int')\n"
      ],
      "metadata": {
        "id": "42UrY2dHMs7j"
      },
      "execution_count": null,
      "outputs": []
    },
    {
      "cell_type": "markdown",
      "source": [
        "#EĞİTİM VE TEST KÜMELERİNİN OLUŞTURULMASI"
      ],
      "metadata": {
        "id": "PAtTR0TBcWWm"
      }
    },
    {
      "cell_type": "code",
      "source": [
        "# Veriyi eğitim ve test kümelerine bölelim\n",
        "X_train, X_test, y_train, y_test = train_test_split(X_tfidf, Y, test_size=0.2, random_state=42)"
      ],
      "metadata": {
        "id": "Q13BZt77cV0H"
      },
      "execution_count": null,
      "outputs": []
    },
    {
      "cell_type": "markdown",
      "source": [
        "#KNN İÇİN EN İYİ K DEĞERİNİN HESAPLANMASI\n"
      ],
      "metadata": {
        "id": "FJcAT9ZlHzSd"
      }
    },
    {
      "cell_type": "code",
      "source": [
        "from sklearn.neighbors import KNeighborsClassifier\n",
        "from sklearn.model_selection import train_test_split\n",
        "from sklearn.metrics import accuracy_score\n",
        "\n",
        "# K değerlerini belirleyin\n",
        "k_values = list(range(1, 21))\n",
        "\n",
        "# Her k değeri için modeli eğit ve test et\n",
        "for k in k_values:\n",
        "    model = KNeighborsClassifier(n_neighbors=k)\n",
        "    model.fit(X_train, y_train)\n",
        "    y_pred = model.predict(X_test)\n",
        "    accuracy = accuracy_score(y_test, y_pred)\n",
        "    print(f'K={k}, Doğruluk: {accuracy}')\n",
        "\n"
      ],
      "metadata": {
        "colab": {
          "base_uri": "https://localhost:8080/"
        },
        "id": "pU3A-FBvQBI7",
        "outputId": "8d421f43-cfb5-4030-9acf-b1271574351b"
      },
      "execution_count": null,
      "outputs": [
        {
          "output_type": "stream",
          "name": "stdout",
          "text": [
            "K=1, Doğruluk: 0.9533632286995516\n",
            "K=2, Doğruluk: 0.9515695067264573\n",
            "K=3, Doğruluk: 0.9345291479820628\n",
            "K=4, Doğruluk: 0.9345291479820628\n",
            "K=5, Doğruluk: 0.9210762331838565\n",
            "K=6, Doğruluk: 0.9210762331838565\n",
            "K=7, Doğruluk: 0.9094170403587444\n",
            "K=8, Doğruluk: 0.9094170403587444\n",
            "K=9, Doğruluk: 0.9022421524663677\n",
            "K=10, Doğruluk: 0.9022421524663677\n",
            "K=11, Doğruluk: 0.8896860986547085\n",
            "K=12, Doğruluk: 0.8896860986547085\n",
            "K=13, Doğruluk: 0.884304932735426\n",
            "K=14, Doğruluk: 0.884304932735426\n",
            "K=15, Doğruluk: 0.8780269058295964\n",
            "K=16, Doğruluk: 0.8780269058295964\n",
            "K=17, Doğruluk: 0.8762331838565023\n",
            "K=18, Doğruluk: 0.8762331838565023\n",
            "K=19, Doğruluk: 0.8762331838565023\n",
            "K=20, Doğruluk: 0.8762331838565023\n"
          ]
        }
      ]
    },
    {
      "cell_type": "markdown",
      "source": [
        "#EN İYİ K DEĞERİ İÇİN MODELİN KNN İLE EĞİTİM VE TEST AŞAMASI"
      ],
      "metadata": {
        "id": "jdaI6YCJTlv2"
      }
    },
    {
      "cell_type": "code",
      "source": [
        "\n",
        "# k-NN modelini oluşturun ve 5 parça cross-validation kullanarak eğitin\n",
        "knn_model = KNeighborsClassifier(n_neighbors=1,metric='euclidean')  # k=1 olarak belirlendi.\n",
        "\n",
        "from sklearn.model_selection import cross_validate\n",
        "from sklearn.metrics import accuracy_score, precision_score, recall_score, f1_score\n",
        "\n",
        "# k-NN modelini oluşturun ve 1 parça cross-validation kullanarak eğitin\n",
        "knn_model = KNeighborsClassifier(n_neighbors=1, metric='euclidean')  # k=1 olarak belirlendi.\n",
        "\n",
        "# Cross-validation metriklerini belirtin\n",
        "scoring = ['accuracy', 'precision', 'recall', 'f1']\n",
        "\n",
        "# Cross-validation skorlarını hesapla\n",
        "cv_results = cross_validate(knn_model, X_tfidf, Y, cv=5, scoring=scoring)\n",
        "\n",
        "# Her cross-validation aşamasında elde edilen skorları ekrana yazdır\n",
        "for i in range(5):\n",
        "    print(f\"\\nCross-Validation Aşaması {i + 1}:\")\n",
        "    print(f\"Accuracy: {cv_results['test_accuracy'][i]}\")\n",
        "    print(f\"Precision: {cv_results['test_precision'][i]}\")\n",
        "    print(f\"Recall: {cv_results['test_recall'][i]}\")\n",
        "    print(f\"F1-score: {cv_results['test_f1'][i]}\")\n",
        "\n",
        "# Ortalama skorları ekrana yazdır\n",
        "print(\"\\nOrtalama Skorlar:\")\n",
        "print(f\"Ortalama Accuracy: {cv_results['test_accuracy'].mean()}\")\n",
        "print(f\"Ortalama Precision: {cv_results['test_precision'].mean()}\")\n",
        "print(f\"Ortalama Recall: {cv_results['test_recall'].mean()}\")\n",
        "print(f\"Ortalama F1-score: {cv_results['test_f1'].mean()}\")\n",
        "\n",
        "\n",
        "# Modeli eğitin\n",
        "knn_model.fit(X_train, y_train)\n",
        "\n",
        "# Test kümesi üzerinde tahmin yapın\n",
        "y_pred = knn_model.predict(X_test)\n",
        "\n",
        "# Modelin performansını değerlendirin\n",
        "accuracy = accuracy_score(y_test, y_pred)\n",
        "precision = precision_score(y_test, y_pred)\n",
        "recall = recall_score(y_test, y_pred)\n",
        "f1score = f1_score(y_test, y_pred)\n",
        "\n",
        "#confusion matrix\n",
        "cm = confusion_matrix(y_test,y_pred)\n",
        "\n",
        "print(\"KNN MODELİ İÇİN:\")\n",
        "print(f\"Accuracy: {accuracy}\")\n",
        "print(f\"Precision: {precision}\")\n",
        "print(f\"Recall: {recall}\")\n",
        "print(f\"F1-score: {f1score}\")\n",
        "print(cm)\n",
        "\n",
        "# Confusion matrix çizimi\n",
        "# Heatmap çizimi\n",
        "import seaborn as sns\n",
        "plt.figure(figsize=(6, 4))\n",
        "sns.heatmap(cm, annot=True, fmt=\"d\", cmap=\"Blues\", cbar=False,\n",
        "            xticklabels=[\"Tahmin 1 (Ham)\", \"Tahmin 0 (Spam)\"],\n",
        "            yticklabels=[\"Gerçek 1 (Ham)\", \"Gerçek 0 (Spam)\"])\n",
        "plt.xlabel(\"Tahmin Edilen Sınıflar\")\n",
        "plt.ylabel(\"Gerçek Sınıflar\")\n"
      ],
      "metadata": {
        "colab": {
          "base_uri": "https://localhost:8080/",
          "height": 1000
        },
        "id": "Yo6LhBJ_Q9gW",
        "outputId": "ba078c04-665c-4a3c-e66b-77cf662aa9e2"
      },
      "execution_count": null,
      "outputs": [
        {
          "output_type": "stream",
          "name": "stdout",
          "text": [
            "\n",
            "Cross-Validation Aşaması 1:\n",
            "Accuracy: 0.9506726457399103\n",
            "Precision: 0.9469548133595285\n",
            "Recall: 0.9989637305699481\n",
            "F1-score: 0.9722642460917801\n",
            "\n",
            "Cross-Validation Aşaması 2:\n",
            "Accuracy: 0.9443946188340807\n",
            "Precision: 0.9404878048780487\n",
            "Recall: 0.9989637305699481\n",
            "F1-score: 0.9688442211055276\n",
            "\n",
            "Cross-Validation Aşaması 3:\n",
            "Accuracy: 0.9443447037701975\n",
            "Precision: 0.9404878048780487\n",
            "Recall: 0.9989637305699481\n",
            "F1-score: 0.9688442211055276\n",
            "\n",
            "Cross-Validation Aşaması 4:\n",
            "Accuracy: 0.9488330341113106\n",
            "Precision: 0.9459724950884086\n",
            "Recall: 0.9979274611398964\n",
            "F1-score: 0.9712556732223903\n",
            "\n",
            "Cross-Validation Aşaması 5:\n",
            "Accuracy: 0.9443447037701975\n",
            "Precision: 0.9404878048780487\n",
            "Recall: 0.9989637305699481\n",
            "F1-score: 0.9688442211055276\n",
            "\n",
            "Ortalama Skorlar:\n",
            "Ortalama Accuracy: 0.9465179412451393\n",
            "Ortalama Precision: 0.9428781446164166\n",
            "Ortalama Recall: 0.9987564766839376\n",
            "Ortalama F1-score: 0.9700105165261507\n",
            "KNN MODELİ İÇİN:\n",
            "Accuracy: 0.9533632286995516\n",
            "Precision: 0.9498031496062992\n",
            "Recall: 0.9989648033126294\n",
            "F1-score: 0.9737638748738647\n",
            "[[ 98  51]\n",
            " [  1 965]]\n"
          ]
        },
        {
          "output_type": "execute_result",
          "data": {
            "text/plain": [
              "Text(45.72222222222221, 0.5, 'Gerçek Sınıflar')"
            ]
          },
          "metadata": {},
          "execution_count": 18
        },
        {
          "output_type": "display_data",
          "data": {
            "text/plain": [
              "<Figure size 600x400 with 1 Axes>"
            ],
            "image/png": "[encoded data removed]"
          },
          "metadata": {}
        }
      ]
    },
    {
      "cell_type": "markdown",
      "source": [
        "#MODELİN LOJİSTİK REGRESYON İLE EĞİTİM VE TEST AŞAMASI"
      ],
      "metadata": {
        "id": "9iAZE3OVNEEW"
      }
    },
    {
      "cell_type": "code",
      "source": [
        "# Logistic Regression modelini oluşturun\n",
        "lr_model = LogisticRegression()\n",
        "\n",
        "# Cross-validation metriklerini belirtin\n",
        "scoring = ['accuracy', 'precision', 'recall', 'f1']\n",
        "\n",
        "# Cross-validation skorlarını hesapla\n",
        "cv_results = cross_validate(lr_model, X_tfidf, Y, cv=5, scoring=scoring)\n",
        "\n",
        "# Her cross-validation aşamasında elde edilen skorları ekrana yazdır\n",
        "for i in range(5):\n",
        "    print(f\"\\nCross-Validation Aşaması {i + 1}:\")\n",
        "    print(f\"Accuracy: {cv_results['test_accuracy'][i]}\")\n",
        "    print(f\"Precision: {cv_results['test_precision'][i]}\")\n",
        "    print(f\"Recall: {cv_results['test_recall'][i]}\")\n",
        "    print(f\"F1-score: {cv_results['test_f1'][i]}\")\n",
        "\n",
        "# Ortalama skorları ekrana yazdır\n",
        "print(\"\\nOrtalama Skorlar:\")\n",
        "print(f\"Ortalama Accuracy: {cv_results['test_accuracy'].mean()}\")\n",
        "print(f\"Ortalama Precision: {cv_results['test_precision'].mean()}\")\n",
        "print(f\"Ortalama Recall: {cv_results['test_recall'].mean()}\")\n",
        "print(f\"Ortalama F1-score: {cv_results['test_f1'].mean()}\")\n",
        "\n",
        "# Modeli eğitin\n",
        "lr_model.fit(X_train, y_train)\n",
        "\n",
        "# Test kümesi üzerinde tahmin yapın\n",
        "y_pred = lr_model.predict(X_test)\n",
        "\n",
        "# Modelin performansını değerlendirin\n",
        "accuracy = accuracy_score(y_test, y_pred)\n",
        "precision = precision_score(y_test, y_pred)\n",
        "recall = recall_score(y_test, y_pred)\n",
        "f1score = f1_score(y_test, y_pred)\n",
        "\n",
        "#confusion matrix\n",
        "cm = confusion_matrix(y_test, y_pred)\n",
        "\n",
        "\n",
        "print(\"Logistic Regression Modeli ile:\")\n",
        "print(f\"Accuracy: {accuracy}\")\n",
        "print(f\"Precision: {precision}\")\n",
        "print(f\"Recall: {recall}\")\n",
        "print(f\"F1-score: {f1score}\")\n",
        "print(cm)\n",
        "\n",
        "# Confusion matrix çizimi\n",
        "# Heatmap çizimi\n",
        "import seaborn as sns\n",
        "plt.figure(figsize=(6, 4))\n",
        "sns.heatmap(cm, annot=True, fmt=\"d\", cmap=\"Blues\", cbar=False,\n",
        "            xticklabels=[\"Tahmin 1 (Ham)\", \"Tahmin 0 (Spam)\"],\n",
        "            yticklabels=[\"Gerçek 1 (Ham)\", \"Gerçek 0 (Spam)\"])\n",
        "plt.xlabel(\"Tahmin Edilen Sınıflar\")\n",
        "plt.ylabel(\"Gerçek Sınıflar\")\n",
        "\n"
      ],
      "metadata": {
        "colab": {
          "base_uri": "https://localhost:8080/",
          "height": 1000
        },
        "id": "juL3xcknNIru",
        "outputId": "9759ebce-adbd-4cfe-c17c-11d86ca89fd7"
      },
      "execution_count": null,
      "outputs": [
        {
          "output_type": "stream",
          "name": "stdout",
          "text": [
            "\n",
            "Cross-Validation Aşaması 1:\n",
            "Accuracy: 0.9623318385650225\n",
            "Precision: 0.9592039800995025\n",
            "Recall: 0.9989637305699481\n",
            "F1-score: 0.9786802030456851\n",
            "\n",
            "Cross-Validation Aşaması 2:\n",
            "Accuracy: 0.9497757847533632\n",
            "Precision: 0.9460255152109912\n",
            "Recall: 0.9989637305699481\n",
            "F1-score: 0.9717741935483871\n",
            "\n",
            "Cross-Validation Aşaması 3:\n",
            "Accuracy: 0.9533213644524237\n",
            "Precision: 0.9488692232055064\n",
            "Recall: 1.0\n",
            "F1-score: 0.9737638748738648\n",
            "\n",
            "Cross-Validation Aşaması 4:\n",
            "Accuracy: 0.9515260323159784\n",
            "Precision: 0.9478859390363815\n",
            "Recall: 0.9989637305699481\n",
            "F1-score: 0.9727547931382441\n",
            "\n",
            "Cross-Validation Aşaması 5:\n",
            "Accuracy: 0.9569120287253142\n",
            "Precision: 0.9544103072348861\n",
            "Recall: 0.9979274611398964\n",
            "F1-score: 0.9756838905775076\n",
            "\n",
            "Ortalama Skorlar:\n",
            "Ortalama Accuracy: 0.9547734097624204\n",
            "Ortalama Precision: 0.9512789929574534\n",
            "Ortalama Recall: 0.9989637305699481\n",
            "Ortalama F1-score: 0.9745313910367377\n",
            "Logistic Regression Modeli ile:\n",
            "Accuracy: 0.9551569506726457\n",
            "Precision: 0.9507874015748031\n",
            "Recall: 1.0\n",
            "F1-score: 0.9747729566094853\n",
            "[[ 99  50]\n",
            " [  0 966]]\n"
          ]
        },
        {
          "output_type": "execute_result",
          "data": {
            "text/plain": [
              "Text(45.72222222222221, 0.5, 'Gerçek Sınıflar')"
            ]
          },
          "metadata": {},
          "execution_count": 19
        },
        {
          "output_type": "display_data",
          "data": {
            "text/plain": [
              "<Figure size 600x400 with 1 Axes>"
            ],
            "image/png": "[encoded data removed]"
          },
          "metadata": {}
        }
      ]
    },
    {
      "cell_type": "markdown",
      "source": [
        "#YENİ ÖRNEKLERLE TAHMİN"
      ],
      "metadata": {
        "id": "n-bggNv9O003"
      }
    },
    {
      "cell_type": "code",
      "source": [
        "#rastgele bir mail örneğinden tahmin etmesini isteyelim.\n",
        "input_mail = [\"You've Won a Prize! Hello, You have won the first prize! Click now to claim your new MacBook Pro and $10,000 in cash. All you need to do is share your personal information and credit card details. Don't miss your chance! Best regards, Apple Company\"]\n",
        "\n",
        "#mailin tfidf vektörüne dönüşümü\n",
        "input_data_tfidf = vectorizer.transform(input_mail)\n",
        "\n",
        "#tahmin edilmesi\n",
        "prediction = knn_model.predict(input_data_tfidf)\n",
        "print(prediction)\n",
        "\n",
        "#mail ham yani 1 olarak sonuç vermelidir. BU NEDENLE İF KOŞULU YAZILDI.\n",
        "if prediction[0]==1:\n",
        "  print('not-spam mail')\n",
        "else:\n",
        "  print('spam mail')"
      ],
      "metadata": {
        "colab": {
          "base_uri": "https://localhost:8080/"
        },
        "id": "lQH9J5VqOzUZ",
        "outputId": "2299d177-a952-48cf-c3f9-d29fdd7714f6"
      },
      "execution_count": null,
      "outputs": [
        {
          "output_type": "stream",
          "name": "stdout",
          "text": [
            "[1]\n",
            "not-spam mail\n"
          ]
        }
      ]
    }
  ]
}